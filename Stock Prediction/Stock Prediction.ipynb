{
 "cells": [
  {
   "cell_type": "code",
   "execution_count": 2,
   "metadata": {},
   "outputs": [
    {
     "name": "stdout",
     "output_type": "stream",
     "text": [
      "Collecting yfinance\n",
      "  Downloading https://files.pythonhosted.org/packages/7a/e8/b9d7104d3a4bf39924799067592d9e59119fcfc900a425a12e80a3123ec8/yfinance-0.1.55.tar.gz\n",
      "Requirement already satisfied: pandas>=0.24 in c:\\users\\sainath\\anaconda3\\lib\\site-packages (from yfinance) (0.25.3)\n",
      "Requirement already satisfied: numpy>=1.15 in c:\\users\\sainath\\anaconda3\\lib\\site-packages (from yfinance) (1.17.4)\n",
      "Requirement already satisfied: requests>=2.20 in c:\\users\\sainath\\anaconda3\\lib\\site-packages (from yfinance) (2.22.0)\n",
      "Collecting multitasking>=0.0.7\n",
      "  Downloading https://files.pythonhosted.org/packages/69/e7/e9f1661c28f7b87abfa08cb0e8f51dad2240a9f4f741f02ea839835e6d18/multitasking-0.0.9.tar.gz\n",
      "Collecting lxml>=4.5.1\n",
      "  Downloading https://files.pythonhosted.org/packages/5d/ca/deddbbc1bdfdb423dbc8d778144a05e3dd88a3b470766bd7fbf831b0c8d8/lxml-4.6.2-cp36-cp36m-win_amd64.whl (3.5MB)\n",
      "Requirement already satisfied: pytz>=2017.2 in c:\\users\\sainath\\anaconda3\\lib\\site-packages (from pandas>=0.24->yfinance) (2019.3)\n",
      "Requirement already satisfied: python-dateutil>=2.6.1 in c:\\users\\sainath\\anaconda3\\lib\\site-packages (from pandas>=0.24->yfinance) (2.8.1)\n",
      "Requirement already satisfied: chardet<3.1.0,>=3.0.2 in c:\\users\\sainath\\anaconda3\\lib\\site-packages (from requests>=2.20->yfinance) (3.0.4)\n",
      "Requirement already satisfied: urllib3!=1.25.0,!=1.25.1,<1.26,>=1.21.1 in c:\\users\\sainath\\anaconda3\\lib\\site-packages (from requests>=2.20->yfinance) (1.25.7)\n",
      "Requirement already satisfied: certifi>=2017.4.17 in c:\\users\\sainath\\anaconda3\\lib\\site-packages (from requests>=2.20->yfinance) (2020.6.20)\n",
      "Requirement already satisfied: idna<2.9,>=2.5 in c:\\users\\sainath\\anaconda3\\lib\\site-packages (from requests>=2.20->yfinance) (2.8)\n",
      "Requirement already satisfied: six>=1.5 in c:\\users\\sainath\\anaconda3\\lib\\site-packages (from python-dateutil>=2.6.1->pandas>=0.24->yfinance) (1.13.0)\n",
      "Building wheels for collected packages: yfinance, multitasking\n",
      "  Building wheel for yfinance (setup.py): started\n",
      "  Building wheel for yfinance (setup.py): finished with status 'done'\n",
      "  Created wheel for yfinance: filename=yfinance-0.1.55-py2.py3-none-any.whl size=22243 sha256=c1e48e5c2937dd4f3706289598eeb148f972353ef03f77529f491993f158b1c7\n",
      "  Stored in directory: C:\\Users\\SAINATH\\AppData\\Local\\pip\\Cache\\wheels\\04\\98\\cc\\2702a4242d60bdc14f48b4557c427ded1fe92aedf257d4565c\n",
      "  Building wheel for multitasking (setup.py): started\n",
      "  Building wheel for multitasking (setup.py): finished with status 'done'\n",
      "  Created wheel for multitasking: filename=multitasking-0.0.9-cp36-none-any.whl size=6639 sha256=7c20b68ef98a16fad9e5956e88acccc3d5e10bc635729c0af9a597a27a89dfaa\n",
      "  Stored in directory: C:\\Users\\SAINATH\\AppData\\Local\\pip\\Cache\\wheels\\37\\fa\\73\\d492849e319038eb4d986f5152e4b19ffb1bc0639da84d2677\n",
      "Successfully built yfinance multitasking\n",
      "Installing collected packages: multitasking, lxml, yfinance\n",
      "  Found existing installation: lxml 4.1.1\n",
      "    Uninstalling lxml-4.1.1:\n",
      "      Successfully uninstalled lxml-4.1.1\n",
      "Successfully installed lxml-4.6.2 multitasking-0.0.9 yfinance-0.1.55\n"
     ]
    },
    {
     "name": "stderr",
     "output_type": "stream",
     "text": [
      "WARNING: You are using pip version 19.3.1; however, version 20.3.3 is available.\n",
      "You should consider upgrading via the 'python -m pip install --upgrade pip' command.\n"
     ]
    }
   ],
   "source": [
    "!pip install yfinance"
   ]
  },
  {
   "cell_type": "code",
   "execution_count": 65,
   "metadata": {},
   "outputs": [],
   "source": [
    "# Technical Indicators\n",
    "import talib as ta\n",
    "\n",
    "# Plotting graphs\n",
    "import matplotlib.pyplot as plt\n",
    "\n",
    "# Machine learning\n",
    "from sklearn.linear_model import LogisticRegression\n",
    "from sklearn import metrics\n",
    "from sklearn.model_selection import cross_val_score\n",
    "\n",
    "# Data fetching\n",
    "from pandas_datareader import data as pdr\n",
    "import yfinance as yf\n",
    "yf.pdr_override()"
   ]
  },
  {
   "cell_type": "code",
   "execution_count": 66,
   "metadata": {},
   "outputs": [
    {
     "name": "stdout",
     "output_type": "stream",
     "text": [
      "[*********************100%***********************]  1 of 1 completed\n"
     ]
    },
    {
     "data": {
      "text/html": [
       "<div>\n",
       "<style scoped>\n",
       "    .dataframe tbody tr th:only-of-type {\n",
       "        vertical-align: middle;\n",
       "    }\n",
       "\n",
       "    .dataframe tbody tr th {\n",
       "        vertical-align: top;\n",
       "    }\n",
       "\n",
       "    .dataframe thead th {\n",
       "        text-align: right;\n",
       "    }\n",
       "</style>\n",
       "<table border=\"1\" class=\"dataframe\">\n",
       "  <thead>\n",
       "    <tr style=\"text-align: right;\">\n",
       "      <th></th>\n",
       "      <th>Open</th>\n",
       "      <th>High</th>\n",
       "      <th>Low</th>\n",
       "      <th>Close</th>\n",
       "    </tr>\n",
       "    <tr>\n",
       "      <th>Date</th>\n",
       "      <th></th>\n",
       "      <th></th>\n",
       "      <th></th>\n",
       "      <th></th>\n",
       "    </tr>\n",
       "  </thead>\n",
       "  <tbody>\n",
       "    <tr>\n",
       "      <th>2007-09-17</th>\n",
       "      <td>4518.450195</td>\n",
       "      <td>4549.049805</td>\n",
       "      <td>4482.850098</td>\n",
       "      <td>4494.649902</td>\n",
       "    </tr>\n",
       "    <tr>\n",
       "      <th>2007-09-18</th>\n",
       "      <td>4494.100098</td>\n",
       "      <td>4551.799805</td>\n",
       "      <td>4481.549805</td>\n",
       "      <td>4546.200195</td>\n",
       "    </tr>\n",
       "    <tr>\n",
       "      <th>2007-09-19</th>\n",
       "      <td>4550.250000</td>\n",
       "      <td>4739.000000</td>\n",
       "      <td>4550.250000</td>\n",
       "      <td>4732.350098</td>\n",
       "    </tr>\n",
       "    <tr>\n",
       "      <th>2007-09-20</th>\n",
       "      <td>4734.850098</td>\n",
       "      <td>4760.850098</td>\n",
       "      <td>4721.149902</td>\n",
       "      <td>4747.549805</td>\n",
       "    </tr>\n",
       "    <tr>\n",
       "      <th>2007-09-21</th>\n",
       "      <td>4752.950195</td>\n",
       "      <td>4855.700195</td>\n",
       "      <td>4733.700195</td>\n",
       "      <td>4837.549805</td>\n",
       "    </tr>\n",
       "  </tbody>\n",
       "</table>\n",
       "</div>"
      ],
      "text/plain": [
       "                   Open         High          Low        Close\n",
       "Date                                                          \n",
       "2007-09-17  4518.450195  4549.049805  4482.850098  4494.649902\n",
       "2007-09-18  4494.100098  4551.799805  4481.549805  4546.200195\n",
       "2007-09-19  4550.250000  4739.000000  4550.250000  4732.350098\n",
       "2007-09-20  4734.850098  4760.850098  4721.149902  4747.549805\n",
       "2007-09-21  4752.950195  4855.700195  4733.700195  4837.549805"
      ]
     },
     "execution_count": 66,
     "metadata": {},
     "output_type": "execute_result"
    }
   ],
   "source": [
    "df = pdr.get_data_yahoo('^NSEI', '2000-01-01', '2021-01-01')\n",
    "df = df.dropna()\n",
    "df = df.iloc[:,:4]\n",
    "df.head()"
   ]
  },
  {
   "cell_type": "code",
   "execution_count": 67,
   "metadata": {},
   "outputs": [],
   "source": [
    "df['S_10'] = df['Close'].rolling(window=10).mean()\n",
    "df['Corr'] = df['Close'].rolling(window=10).corr(df['S_10'])\n",
    "df['RSI'] = ta.RSI(np.array(df['Close']), timeperiod =10)\n",
    "df['Open-Close'] = df['Open'] - df['Close'].shift(1)\n",
    "df['Open-Open'] = df['Open'] - df['Open'].shift(1)\n",
    "df = df.dropna()\n",
    "X = df.iloc[:,:9]"
   ]
  },
  {
   "cell_type": "code",
   "execution_count": 68,
   "metadata": {},
   "outputs": [],
   "source": [
    "import numpy as np\n",
    "y = np.where(df['Close'].shift(-1) > df['Close'],1,-1)"
   ]
  },
  {
   "cell_type": "code",
   "execution_count": 69,
   "metadata": {},
   "outputs": [],
   "source": [
    "split = int(0.7*len(df))\n",
    "X_train, X_test, y_train, y_test = X[:split], X[split:], y[:split], y[split:]"
   ]
  },
  {
   "cell_type": "code",
   "execution_count": 70,
   "metadata": {},
   "outputs": [],
   "source": [
    "model = LogisticRegression()\n",
    "model = model.fit (X_train,y_train)"
   ]
  },
  {
   "cell_type": "code",
   "execution_count": 71,
   "metadata": {},
   "outputs": [
    {
     "data": {
      "text/html": [
       "<div>\n",
       "<style scoped>\n",
       "    .dataframe tbody tr th:only-of-type {\n",
       "        vertical-align: middle;\n",
       "    }\n",
       "\n",
       "    .dataframe tbody tr th {\n",
       "        vertical-align: top;\n",
       "    }\n",
       "\n",
       "    .dataframe thead th {\n",
       "        text-align: right;\n",
       "    }\n",
       "</style>\n",
       "<table border=\"1\" class=\"dataframe\">\n",
       "  <thead>\n",
       "    <tr style=\"text-align: right;\">\n",
       "      <th></th>\n",
       "      <th>0</th>\n",
       "      <th>1</th>\n",
       "    </tr>\n",
       "  </thead>\n",
       "  <tbody>\n",
       "    <tr>\n",
       "      <th>0</th>\n",
       "      <td>Open</td>\n",
       "      <td>[-0.0016774302069193297]</td>\n",
       "    </tr>\n",
       "    <tr>\n",
       "      <th>1</th>\n",
       "      <td>High</td>\n",
       "      <td>[0.0002866807563478619]</td>\n",
       "    </tr>\n",
       "    <tr>\n",
       "      <th>2</th>\n",
       "      <td>Low</td>\n",
       "      <td>[-4.410978390808067e-05]</td>\n",
       "    </tr>\n",
       "    <tr>\n",
       "      <th>3</th>\n",
       "      <td>Close</td>\n",
       "      <td>[0.000999058520857889]</td>\n",
       "    </tr>\n",
       "    <tr>\n",
       "      <th>4</th>\n",
       "      <td>S_10</td>\n",
       "      <td>[0.00043498260793048405]</td>\n",
       "    </tr>\n",
       "    <tr>\n",
       "      <th>5</th>\n",
       "      <td>Corr</td>\n",
       "      <td>[9.878798794221172e-06]</td>\n",
       "    </tr>\n",
       "    <tr>\n",
       "      <th>6</th>\n",
       "      <td>RSI</td>\n",
       "      <td>[0.00072423177640988]</td>\n",
       "    </tr>\n",
       "    <tr>\n",
       "      <th>7</th>\n",
       "      <td>Open-Close</td>\n",
       "      <td>[0.0032608218145178895]</td>\n",
       "    </tr>\n",
       "    <tr>\n",
       "      <th>8</th>\n",
       "      <td>Open-Open</td>\n",
       "      <td>[0.00030881945359245304]</td>\n",
       "    </tr>\n",
       "  </tbody>\n",
       "</table>\n",
       "</div>"
      ],
      "text/plain": [
       "            0                         1\n",
       "0        Open  [-0.0016774302069193297]\n",
       "1        High   [0.0002866807563478619]\n",
       "2         Low  [-4.410978390808067e-05]\n",
       "3       Close    [0.000999058520857889]\n",
       "4        S_10  [0.00043498260793048405]\n",
       "5        Corr   [9.878798794221172e-06]\n",
       "6         RSI     [0.00072423177640988]\n",
       "7  Open-Close   [0.0032608218145178895]\n",
       "8   Open-Open  [0.00030881945359245304]"
      ]
     },
     "execution_count": 71,
     "metadata": {},
     "output_type": "execute_result"
    }
   ],
   "source": [
    "import pandas as pd\n",
    "pd.DataFrame(zip(X.columns, np.transpose(model.coef_)))"
   ]
  },
  {
   "cell_type": "code",
   "execution_count": 72,
   "metadata": {},
   "outputs": [
    {
     "name": "stdout",
     "output_type": "stream",
     "text": [
      "[[0.48520445 0.51479555]\n",
      " [0.44816969 0.55183031]\n",
      " [0.43545873 0.56454127]\n",
      " ...\n",
      " [0.46814196 0.53185804]\n",
      " [0.47140631 0.52859369]\n",
      " [0.51779459 0.48220541]]\n"
     ]
    }
   ],
   "source": [
    "probability = model.predict_proba(X_test)\n",
    "print(probability)"
   ]
  },
  {
   "cell_type": "code",
   "execution_count": 73,
   "metadata": {},
   "outputs": [
    {
     "name": "stdout",
     "output_type": "stream",
     "text": [
      "[[0.48520445 0.51479555]\n",
      " [0.44816969 0.55183031]\n",
      " [0.43545873 0.56454127]\n",
      " ...\n",
      " [0.46814196 0.53185804]\n",
      " [0.47140631 0.52859369]\n",
      " [0.51779459 0.48220541]]\n"
     ]
    }
   ],
   "source": [
    "probability = model.predict_proba(X_test)\n",
    "print(probability)\n",
    "\n",
    "predicted = model.predict(X_test)"
   ]
  },
  {
   "cell_type": "code",
   "execution_count": 74,
   "metadata": {},
   "outputs": [
    {
     "name": "stdout",
     "output_type": "stream",
     "text": [
      "[[138 295]\n",
      " [152 384]]\n"
     ]
    }
   ],
   "source": [
    "print(metrics.confusion_matrix(y_test, predicted))"
   ]
  },
  {
   "cell_type": "code",
   "execution_count": 75,
   "metadata": {},
   "outputs": [
    {
     "name": "stdout",
     "output_type": "stream",
     "text": [
      "              precision    recall  f1-score   support\n",
      "\n",
      "          -1       0.48      0.32      0.38       433\n",
      "           1       0.57      0.72      0.63       536\n",
      "\n",
      "    accuracy                           0.54       969\n",
      "   macro avg       0.52      0.52      0.51       969\n",
      "weighted avg       0.53      0.54      0.52       969\n",
      "\n"
     ]
    }
   ],
   "source": [
    "print(metrics.classification_report(y_test, predicted))"
   ]
  },
  {
   "cell_type": "code",
   "execution_count": 76,
   "metadata": {},
   "outputs": [
    {
     "name": "stdout",
     "output_type": "stream",
     "text": [
      "0.5386996904024768\n"
     ]
    }
   ],
   "source": [
    "print(model.score(X_test,y_test))"
   ]
  },
  {
   "cell_type": "code",
   "execution_count": 77,
   "metadata": {},
   "outputs": [
    {
     "name": "stdout",
     "output_type": "stream",
     "text": [
      "[0.52012384 0.49535604 0.49845201 0.56037152 0.52012384 0.54798762\n",
      " 0.52321981 0.54179567 0.51083591 0.48606811]\n",
      "0.5204334365325077\n"
     ]
    }
   ],
   "source": [
    "cross_val = cross_val_score(LogisticRegression(), X, y, scoring='accuracy', cv=10)\n",
    "print(cross_val)\n",
    "print(cross_val.mean())"
   ]
  },
  {
   "cell_type": "code",
   "execution_count": 64,
   "metadata": {},
   "outputs": [
    {
     "data": {
      "image/png": "[encoded data removed]",
      "text/plain": [
       "<Figure size 720x360 with 1 Axes>"
      ]
     },
     "metadata": {},
     "output_type": "display_data"
    }
   ],
   "source": [
    "df['Predicted_Signal'] = model.predict(X)\n",
    "df['Nifty_returns'] = np.log(df['Close']/df['Close'].shift(1))\n",
    "Cumulative_Nifty_returns = np.cumsum(df[split:]['Nifty_returns'])\n",
    "\n",
    "df['Startegy_returns'] = df['Nifty_returns']* df['Predicted_Signal'].shift(1)\n",
    "Cumulative_Strategy_returns = np.cumsum(df[split:]['Startegy_returns'])\n",
    "\n",
    "plt.figure(figsize=(10,5))\n",
    "plt.plot(Cumulative_Nifty_returns, color='r',label = 'Nifty Returns')\n",
    "plt.plot(Cumulative_Strategy_returns, color='g', label = 'Strategy Returns')\n",
    "plt.legend()\n",
    "plt.show()"
   ]
  },
  {
   "cell_type": "code",
   "execution_count": null,
   "metadata": {},
   "outputs": [],
   "source": []
  }
 ],
 "metadata": {
  "kernelspec": {
   "display_name": "Python 3",
   "language": "python",
   "name": "python3"
  },
  "language_info": {
   "codemirror_mode": {
    "name": "ipython",
    "version": 3
   },
   "file_extension": ".py",
   "mimetype": "text/x-python",
   "name": "python",
   "nbconvert_exporter": "python",
   "pygments_lexer": "ipython3",
   "version": "3.6.4"
  }
 },
 "nbformat": 4,
 "nbformat_minor": 2
}
